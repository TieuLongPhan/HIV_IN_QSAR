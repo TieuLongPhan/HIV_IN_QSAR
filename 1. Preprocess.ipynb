{
 "cells": [
  {
   "cell_type": "code",
   "execution_count": 35,
   "id": "phPyfrenh42L",
   "metadata": {
    "id": "phPyfrenh42L"
   },
   "outputs": [],
   "source": [
    "import pandas as pd\n",
    "import numpy as np"
   ]
  },
  {
   "cell_type": "markdown",
   "id": "d5d0f6b6-8d24-4a7e-8695-ea691d452e0b",
   "metadata": {},
   "source": [
    "# 1. Load data"
   ]
  },
  {
   "cell_type": "code",
   "execution_count": 37,
   "id": "bdc4dea3-de98-435d-adee-eeec92d5433c",
   "metadata": {},
   "outputs": [
    {
     "data": {
      "text/html": [
       "<div>\n",
       "<style scoped>\n",
       "    .dataframe tbody tr th:only-of-type {\n",
       "        vertical-align: middle;\n",
       "    }\n",
       "\n",
       "    .dataframe tbody tr th {\n",
       "        vertical-align: top;\n",
       "    }\n",
       "\n",
       "    .dataframe thead th {\n",
       "        text-align: right;\n",
       "    }\n",
       "</style>\n",
       "<table border=\"1\" class=\"dataframe\">\n",
       "  <thead>\n",
       "    <tr style=\"text-align: right;\">\n",
       "      <th></th>\n",
       "      <th>Molecule ChEMBL ID</th>\n",
       "      <th>Molecule Name</th>\n",
       "      <th>Molecule Max Phase</th>\n",
       "      <th>Molecular Weight</th>\n",
       "      <th>#RO5 Violations</th>\n",
       "      <th>AlogP</th>\n",
       "      <th>Compound Key</th>\n",
       "      <th>Smiles</th>\n",
       "      <th>Standard Type</th>\n",
       "      <th>Standard Relation</th>\n",
       "      <th>...</th>\n",
       "      <th>Target Name</th>\n",
       "      <th>Target Organism</th>\n",
       "      <th>Target Type</th>\n",
       "      <th>Document ChEMBL ID</th>\n",
       "      <th>Source ID</th>\n",
       "      <th>Source Description</th>\n",
       "      <th>Document Journal</th>\n",
       "      <th>Document Year</th>\n",
       "      <th>Cell ChEMBL ID</th>\n",
       "      <th>Properties</th>\n",
       "    </tr>\n",
       "  </thead>\n",
       "  <tbody>\n",
       "    <tr>\n",
       "      <th>0</th>\n",
       "      <td>CHEMBL172018</td>\n",
       "      <td>NaN</td>\n",
       "      <td>None</td>\n",
       "      <td>463.45</td>\n",
       "      <td>0</td>\n",
       "      <td>1.90</td>\n",
       "      <td>12, NSC-685597</td>\n",
       "      <td>CC(=O)C1=C(NNC(=O)c2ccccn2)[C@@]2(C)C(=CC1=O)O...</td>\n",
       "      <td>IC50</td>\n",
       "      <td>'='</td>\n",
       "      <td>...</td>\n",
       "      <td>Human immunodeficiency virus type 1 integrase</td>\n",
       "      <td>Human immunodeficiency virus 1</td>\n",
       "      <td>SINGLE PROTEIN</td>\n",
       "      <td>CHEMBL1129975</td>\n",
       "      <td>1</td>\n",
       "      <td>Scientific Literature</td>\n",
       "      <td>J Med Chem</td>\n",
       "      <td>1997</td>\n",
       "      <td>None</td>\n",
       "      <td>NaN</td>\n",
       "    </tr>\n",
       "    <tr>\n",
       "      <th>1</th>\n",
       "      <td>CHEMBL56556</td>\n",
       "      <td>NaN</td>\n",
       "      <td>None</td>\n",
       "      <td>282.12</td>\n",
       "      <td>0</td>\n",
       "      <td>0.23</td>\n",
       "      <td>1a</td>\n",
       "      <td>O=P(O)(O)C(O)(Cc1ccccc1)P(=O)(O)O</td>\n",
       "      <td>Inhibition</td>\n",
       "      <td>NaN</td>\n",
       "      <td>...</td>\n",
       "      <td>Human immunodeficiency virus type 1 integrase</td>\n",
       "      <td>Human immunodeficiency virus 1</td>\n",
       "      <td>SINGLE PROTEIN</td>\n",
       "      <td>CHEMBL3112550</td>\n",
       "      <td>1</td>\n",
       "      <td>Scientific Literature</td>\n",
       "      <td>Eur J Med Chem</td>\n",
       "      <td>2014</td>\n",
       "      <td>None</td>\n",
       "      <td>NaN</td>\n",
       "    </tr>\n",
       "    <tr>\n",
       "      <th>2</th>\n",
       "      <td>CHEMBL367881</td>\n",
       "      <td>(+)-USNIC ACID</td>\n",
       "      <td>None</td>\n",
       "      <td>344.32</td>\n",
       "      <td>0</td>\n",
       "      <td>2.13</td>\n",
       "      <td>11, NSC-685596</td>\n",
       "      <td>CC(=O)C1=C(O)C=C2Oc3c(C(C)=O)c(O)c(C)c(O)c3[C@...</td>\n",
       "      <td>Inhibition</td>\n",
       "      <td>'='</td>\n",
       "      <td>...</td>\n",
       "      <td>Human immunodeficiency virus type 1 integrase</td>\n",
       "      <td>Human immunodeficiency virus 1</td>\n",
       "      <td>SINGLE PROTEIN</td>\n",
       "      <td>CHEMBL1129975</td>\n",
       "      <td>1</td>\n",
       "      <td>Scientific Literature</td>\n",
       "      <td>J Med Chem</td>\n",
       "      <td>1997</td>\n",
       "      <td>None</td>\n",
       "      <td>NaN</td>\n",
       "    </tr>\n",
       "    <tr>\n",
       "      <th>3</th>\n",
       "      <td>CHEMBL1669246</td>\n",
       "      <td>NaN</td>\n",
       "      <td>None</td>\n",
       "      <td>399.37</td>\n",
       "      <td>0</td>\n",
       "      <td>3.56</td>\n",
       "      <td>8a</td>\n",
       "      <td>COc1ccc2c(c(C(=O)/C=C(\\O)C(=O)O)cn2Cc2ccc(F)cc...</td>\n",
       "      <td>IC50</td>\n",
       "      <td>'='</td>\n",
       "      <td>...</td>\n",
       "      <td>Human immunodeficiency virus type 1 integrase</td>\n",
       "      <td>Human immunodeficiency virus 1</td>\n",
       "      <td>SINGLE PROTEIN</td>\n",
       "      <td>CHEMBL1667799</td>\n",
       "      <td>1</td>\n",
       "      <td>Scientific Literature</td>\n",
       "      <td>Eur J Med Chem</td>\n",
       "      <td>2011</td>\n",
       "      <td>None</td>\n",
       "      <td>NaN</td>\n",
       "    </tr>\n",
       "    <tr>\n",
       "      <th>4</th>\n",
       "      <td>CHEMBL1669245</td>\n",
       "      <td>NaN</td>\n",
       "      <td>None</td>\n",
       "      <td>427.43</td>\n",
       "      <td>0</td>\n",
       "      <td>4.03</td>\n",
       "      <td>7f</td>\n",
       "      <td>CCOC(=O)/C(O)=C/C(=O)c1cn(Cc2ccc(F)cc2)c2c(OC)...</td>\n",
       "      <td>IC50</td>\n",
       "      <td>'='</td>\n",
       "      <td>...</td>\n",
       "      <td>Human immunodeficiency virus type 1 integrase</td>\n",
       "      <td>Human immunodeficiency virus 1</td>\n",
       "      <td>SINGLE PROTEIN</td>\n",
       "      <td>CHEMBL1667799</td>\n",
       "      <td>1</td>\n",
       "      <td>Scientific Literature</td>\n",
       "      <td>Eur J Med Chem</td>\n",
       "      <td>2011</td>\n",
       "      <td>None</td>\n",
       "      <td>NaN</td>\n",
       "    </tr>\n",
       "  </tbody>\n",
       "</table>\n",
       "<p>5 rows × 45 columns</p>\n",
       "</div>"
      ],
      "text/plain": [
       "  Molecule ChEMBL ID   Molecule Name Molecule Max Phase  Molecular Weight  \\\n",
       "0       CHEMBL172018             NaN               None            463.45   \n",
       "1        CHEMBL56556             NaN               None            282.12   \n",
       "2       CHEMBL367881  (+)-USNIC ACID               None            344.32   \n",
       "3      CHEMBL1669246             NaN               None            399.37   \n",
       "4      CHEMBL1669245             NaN               None            427.43   \n",
       "\n",
       "  #RO5 Violations AlogP    Compound Key  \\\n",
       "0               0  1.90  12, NSC-685597   \n",
       "1               0  0.23              1a   \n",
       "2               0  2.13  11, NSC-685596   \n",
       "3               0  3.56              8a   \n",
       "4               0  4.03              7f   \n",
       "\n",
       "                                              Smiles Standard Type  \\\n",
       "0  CC(=O)C1=C(NNC(=O)c2ccccn2)[C@@]2(C)C(=CC1=O)O...          IC50   \n",
       "1                  O=P(O)(O)C(O)(Cc1ccccc1)P(=O)(O)O    Inhibition   \n",
       "2  CC(=O)C1=C(O)C=C2Oc3c(C(C)=O)c(O)c(C)c(O)c3[C@...    Inhibition   \n",
       "3  COc1ccc2c(c(C(=O)/C=C(\\O)C(=O)O)cn2Cc2ccc(F)cc...          IC50   \n",
       "4  CCOC(=O)/C(O)=C/C(=O)c1cn(Cc2ccc(F)cc2)c2c(OC)...          IC50   \n",
       "\n",
       "  Standard Relation  ...                                    Target Name  \\\n",
       "0               '='  ...  Human immunodeficiency virus type 1 integrase   \n",
       "1               NaN  ...  Human immunodeficiency virus type 1 integrase   \n",
       "2               '='  ...  Human immunodeficiency virus type 1 integrase   \n",
       "3               '='  ...  Human immunodeficiency virus type 1 integrase   \n",
       "4               '='  ...  Human immunodeficiency virus type 1 integrase   \n",
       "\n",
       "                  Target Organism     Target Type Document ChEMBL ID  \\\n",
       "0  Human immunodeficiency virus 1  SINGLE PROTEIN      CHEMBL1129975   \n",
       "1  Human immunodeficiency virus 1  SINGLE PROTEIN      CHEMBL3112550   \n",
       "2  Human immunodeficiency virus 1  SINGLE PROTEIN      CHEMBL1129975   \n",
       "3  Human immunodeficiency virus 1  SINGLE PROTEIN      CHEMBL1667799   \n",
       "4  Human immunodeficiency virus 1  SINGLE PROTEIN      CHEMBL1667799   \n",
       "\n",
       "  Source ID     Source Description  Document Journal Document Year  \\\n",
       "0         1  Scientific Literature        J Med Chem          1997   \n",
       "1         1  Scientific Literature    Eur J Med Chem          2014   \n",
       "2         1  Scientific Literature        J Med Chem          1997   \n",
       "3         1  Scientific Literature    Eur J Med Chem          2011   \n",
       "4         1  Scientific Literature    Eur J Med Chem          2011   \n",
       "\n",
       "  Cell ChEMBL ID Properties  \n",
       "0           None        NaN  \n",
       "1           None        NaN  \n",
       "2           None        NaN  \n",
       "3           None        NaN  \n",
       "4           None        NaN  \n",
       "\n",
       "[5 rows x 45 columns]"
      ]
     },
     "execution_count": 37,
     "metadata": {},
     "output_type": "execute_result"
    }
   ],
   "source": [
    "data = pd.read_csv('Data/CHEMBL3471.csv', sep=';')\n",
    "data.head(5)"
   ]
  },
  {
   "cell_type": "code",
   "execution_count": 38,
   "id": "fc93fa18-0298-4aa8-8287-ffccfae4d731",
   "metadata": {},
   "outputs": [
    {
     "data": {
      "text/plain": [
       "Index(['Molecule ChEMBL ID', 'Molecule Name', 'Molecule Max Phase',\n",
       "       'Molecular Weight', '#RO5 Violations', 'AlogP', 'Compound Key',\n",
       "       'Smiles', 'Standard Type', 'Standard Relation', 'Standard Value',\n",
       "       'Standard Units', 'pChEMBL Value', 'Data Validity Comment', 'Comment',\n",
       "       'Uo Units', 'Ligand Efficiency BEI', 'Ligand Efficiency LE',\n",
       "       'Ligand Efficiency LLE', 'Ligand Efficiency SEI', 'Potential Duplicate',\n",
       "       'Assay ChEMBL ID', 'Assay Description', 'Assay Type', 'BAO Format ID',\n",
       "       'BAO Label', 'Assay Organism', 'Assay Tissue ChEMBL ID',\n",
       "       'Assay Tissue Name', 'Assay Cell Type', 'Assay Subcellular Fraction',\n",
       "       'Assay Parameters', 'Assay Variant Accession', 'Assay Variant Mutation',\n",
       "       'Target ChEMBL ID', 'Target Name', 'Target Organism', 'Target Type',\n",
       "       'Document ChEMBL ID', 'Source ID', 'Source Description',\n",
       "       'Document Journal', 'Document Year', 'Cell ChEMBL ID', 'Properties'],\n",
       "      dtype='object')"
      ]
     },
     "execution_count": 38,
     "metadata": {},
     "output_type": "execute_result"
    }
   ],
   "source": [
    "data.columns"
   ]
  },
  {
   "cell_type": "markdown",
   "id": "ecf39cfc-59f6-449d-8798-7c94f2afe602",
   "metadata": {},
   "source": [
    "# 2. Preprocessing"
   ]
  },
  {
   "cell_type": "code",
   "execution_count": 39,
   "id": "53be4d1d-a5a3-4f54-9b5d-c084ba93a363",
   "metadata": {},
   "outputs": [],
   "source": [
    "import sys\n",
    "sys.path.append('./Preprocessor')\n",
    "from Targetcurate import target_curate\n",
    "from Assaycurate import assay_curate\n",
    "from Smilecurate import smile_curate"
   ]
  },
  {
   "cell_type": "code",
   "execution_count": 40,
   "id": "fc952a96-df19-4bec-9ecf-43347e7f7501",
   "metadata": {},
   "outputs": [],
   "source": [
    "columns = ['Molecule ChEMBL ID', 'Smiles', 'Standard Type', 'Standard Relation', 'Standard Value', 'Standard Units', 'pChEMBL Value', 'Data Validity Comment',\n",
    "          'Assay Type', 'Assay Description','Assay Organism', 'Assay Variant Mutation','Target Name','Target Organism', 'Document Journal']\n",
    "\n",
    "df = data[columns]"
   ]
  },
  {
   "cell_type": "markdown",
   "id": "c72767ab-566b-4b2a-9b0f-c38c3a876024",
   "metadata": {
    "id": "28fbcc51-6d71-4e40-8276-1d02b0f7097d",
    "outputId": "c91a7db4-8318-4958-9f24-79b2b031e13f"
   },
   "source": [
    "## 2.1. Target value standardize (Standard)"
   ]
  },
  {
   "cell_type": "code",
   "execution_count": 41,
   "id": "ac1edc17-46e2-48e7-8da9-47c29c638a9d",
   "metadata": {},
   "outputs": [
    {
     "data": {
      "text/plain": [
       "array(['Human immunodeficiency virus type 1 integrase'], dtype=object)"
      ]
     },
     "execution_count": 41,
     "metadata": {},
     "output_type": "execute_result"
    }
   ],
   "source": [
    "df['Target Name'].unique()"
   ]
  },
  {
   "cell_type": "code",
   "execution_count": 42,
   "id": "d23b3736-ae96-4663-9252-084fbe36f1d7",
   "metadata": {},
   "outputs": [
    {
     "data": {
      "text/plain": [
       "array(['Human immunodeficiency virus 1'], dtype=object)"
      ]
     },
     "execution_count": 42,
     "metadata": {},
     "output_type": "execute_result"
    }
   ],
   "source": [
    "df['Target Organism'].unique()"
   ]
  },
  {
   "cell_type": "code",
   "execution_count": 43,
   "id": "356bd252-d81b-45b0-9758-b5290c0a2f99",
   "metadata": {},
   "outputs": [
    {
     "name": "stdout",
     "output_type": "stream",
     "text": [
      "Number of data before target curation: 8979\n"
     ]
    },
    {
     "data": {
      "text/plain": [
       "(8979, 15)"
      ]
     },
     "metadata": {},
     "output_type": "display_data"
    },
    {
     "data": {
      "text/plain": [
       "(8979, 15)"
      ]
     },
     "metadata": {},
     "output_type": "display_data"
    },
    {
     "name": "stdout",
     "output_type": "stream",
     "text": [
      "Number of data after handle organism and target name: 8979\n",
      "Number of data after select unit: 7397\n",
      "HANDLING\n",
      "Number of data after standardizing: 5720\n"
     ]
    },
    {
     "name": "stderr",
     "output_type": "stream",
     "text": [
      "/home/labhhc/Documents/Workspace/Long/HIV_IN_QSAR/./Preprocessor/Targetcurate.py:78: SettingWithCopyWarning: \n",
      "A value is trying to be set on a copy of a slice from a DataFrame\n",
      "\n",
      "See the caveats in the documentation: https://pandas.pydata.org/pandas-docs/stable/user_guide/indexing.html#returning-a-view-versus-a-copy\n",
      "  df_big.drop(drop_idx, inplace = True)\n",
      "/home/labhhc/Documents/Workspace/Long/HIV_IN_QSAR/./Preprocessor/Targetcurate.py:82: SettingWithCopyWarning: \n",
      "A value is trying to be set on a copy of a slice from a DataFrame\n",
      "\n",
      "See the caveats in the documentation: https://pandas.pydata.org/pandas-docs/stable/user_guide/indexing.html#returning-a-view-versus-a-copy\n",
      "  df_small.drop(drop_idx, inplace = True)\n"
     ]
    }
   ],
   "source": [
    "target = target_curate(data =df, target_name_col = 'Target Name', target_name ='Human immunodeficiency virus type 1 integrase', \n",
    "                       target_org_col='Target Organism', target_org = 'Human immunodeficiency virus 1',\n",
    "                            type_col='Standard Type', unit_col='Standard Units', active_col='Standard Value', \n",
    "                            relate_col='Standard Relation', type_arg ='IC50',equal_only = False, thresh = 7)\n",
    "target.curated_fit()"
   ]
  },
  {
   "cell_type": "code",
   "execution_count": 44,
   "id": "62ca578e-188f-4b4c-8f31-daec11fc492f",
   "metadata": {},
   "outputs": [],
   "source": [
    "df1 = target.df"
   ]
  },
  {
   "cell_type": "markdown",
   "id": "31e268cc-42cc-43d1-af8b-05098e33b5e4",
   "metadata": {},
   "source": [
    "## 2.2. Assay"
   ]
  },
  {
   "cell_type": "code",
   "execution_count": 45,
   "id": "22c75734-3776-4cc0-80db-0b6ba638fd5a",
   "metadata": {},
   "outputs": [
    {
     "data": {
      "text/plain": [
       "array(['B', 'F'], dtype=object)"
      ]
     },
     "execution_count": 45,
     "metadata": {},
     "output_type": "execute_result"
    }
   ],
   "source": [
    "df['Assay Type'].unique()"
   ]
  },
  {
   "cell_type": "code",
   "execution_count": 46,
   "id": "e26a9ae4-33b4-4ec5-aedd-0525aa79d57b",
   "metadata": {},
   "outputs": [
    {
     "data": {
      "text/plain": [
       "array(['Human immunodeficiency virus 1', 'Human immunodeficiency virus',\n",
       "       'None'], dtype=object)"
      ]
     },
     "execution_count": 46,
     "metadata": {},
     "output_type": "execute_result"
    }
   ],
   "source": [
    "df['Assay Organism'].unique()"
   ]
  },
  {
   "cell_type": "code",
   "execution_count": 47,
   "id": "be589c5e-7163-4cfa-9870-e5755592f6d8",
   "metadata": {},
   "outputs": [
    {
     "name": "stdout",
     "output_type": "stream",
     "text": [
      "Number of data befor standardizing: 5720\n",
      "Number of data after choosing assay type: 5624\n",
      "Number of data after choosing assay organism: 5191\n",
      "Number of data after curating: 5051\n"
     ]
    }
   ],
   "source": [
    "assay = assay_curate(data=df1, type_col=\"Assay Type\", org_col=\"Assay Organism\",des_col='Assay Description', \n",
    "                     type_arg='B', org_arg='Human immunodeficiency virus 1', kw = 'integrase')\n",
    "\n",
    "assay.curated_fit()"
   ]
  },
  {
   "cell_type": "code",
   "execution_count": 48,
   "id": "ddfa356a-620a-4c0c-ae18-004c3bd2d8f0",
   "metadata": {},
   "outputs": [
    {
     "data": {
      "text/plain": [
       "(5051, 16)"
      ]
     },
     "execution_count": 48,
     "metadata": {},
     "output_type": "execute_result"
    }
   ],
   "source": [
    "df2 = assay.df\n",
    "df2.shape"
   ]
  },
  {
   "cell_type": "markdown",
   "id": "YTvfa-Fb0MIs",
   "metadata": {
    "id": "YTvfa-Fb0MIs"
   },
   "source": [
    "## 2.3. Smiles curated"
   ]
  },
  {
   "cell_type": "code",
   "execution_count": 49,
   "id": "3e9f6a7e-6d20-4dff-814e-f05a993c3ab6",
   "metadata": {},
   "outputs": [
    {
     "name": "stdout",
     "output_type": "stream",
     "text": [
      "(3077, 17)\n"
     ]
    },
    {
     "name": "stderr",
     "output_type": "stream",
     "text": [
      "/home/labhhc/Documents/Workspace/Long/HIV_IN_QSAR/./Preprocessor/Smilecurate.py:14: SettingWithCopyWarning: \n",
      "A value is trying to be set on a copy of a slice from a DataFrame.\n",
      "Try using .loc[row_indexer,col_indexer] = value instead\n",
      "\n",
      "See the caveats in the documentation: https://pandas.pydata.org/pandas-docs/stable/user_guide/indexing.html#returning-a-view-versus-a-copy\n",
      "  df['Canonical_Smiles'] = df[smile_col].apply(Chem.CanonSmiles)\n"
     ]
    }
   ],
   "source": [
    "smile = smile_curate(data=df2, smile_col='Smiles', pchem_col='pChEMBL', keep = 'best')\n",
    "smile.curate()"
   ]
  },
  {
   "cell_type": "code",
   "execution_count": 50,
   "id": "5f53dd07-f496-4c8b-88c1-c8ac4ee04567",
   "metadata": {},
   "outputs": [],
   "source": [
    "df3 = smile.df"
   ]
  },
  {
   "cell_type": "code",
   "execution_count": 51,
   "id": "21da336a-be83-4a27-81c6-d7dc32e2535f",
   "metadata": {},
   "outputs": [
    {
     "data": {
      "text/html": [
       "<div>\n",
       "<style scoped>\n",
       "    .dataframe tbody tr th:only-of-type {\n",
       "        vertical-align: middle;\n",
       "    }\n",
       "\n",
       "    .dataframe tbody tr th {\n",
       "        vertical-align: top;\n",
       "    }\n",
       "\n",
       "    .dataframe thead th {\n",
       "        text-align: right;\n",
       "    }\n",
       "</style>\n",
       "<table border=\"1\" class=\"dataframe\">\n",
       "  <thead>\n",
       "    <tr style=\"text-align: right;\">\n",
       "      <th></th>\n",
       "      <th>Molecule ChEMBL ID</th>\n",
       "      <th>Smiles</th>\n",
       "      <th>Standard Type</th>\n",
       "      <th>Standard Relation</th>\n",
       "      <th>Standard Value</th>\n",
       "      <th>Standard Units</th>\n",
       "      <th>pChEMBL Value</th>\n",
       "      <th>Data Validity Comment</th>\n",
       "      <th>Assay Type</th>\n",
       "      <th>Assay Description</th>\n",
       "      <th>Assay Organism</th>\n",
       "      <th>Assay Variant Mutation</th>\n",
       "      <th>Target Name</th>\n",
       "      <th>Target Organism</th>\n",
       "      <th>Document Journal</th>\n",
       "      <th>pChEMBL</th>\n",
       "      <th>Canonical_Smiles</th>\n",
       "    </tr>\n",
       "  </thead>\n",
       "  <tbody>\n",
       "    <tr>\n",
       "      <th>686</th>\n",
       "      <td>CHEMBL414850</td>\n",
       "      <td>O=C(NCc1ccc(F)cc1)c1nc(N2CCCCS2(=O)=O)c2cccnc2c1O</td>\n",
       "      <td>IC50</td>\n",
       "      <td>'='</td>\n",
       "      <td>0.5</td>\n",
       "      <td>nM</td>\n",
       "      <td>9.30</td>\n",
       "      <td>NaN</td>\n",
       "      <td>B</td>\n",
       "      <td>In vitro concentration required to inhibit the...</td>\n",
       "      <td>Human immunodeficiency virus 1</td>\n",
       "      <td>NaN</td>\n",
       "      <td>Human immunodeficiency virus type 1 integrase</td>\n",
       "      <td>Human immunodeficiency virus 1</td>\n",
       "      <td>J Med Chem</td>\n",
       "      <td>9.301030</td>\n",
       "      <td>O=C(NCc1ccc(F)cc1)c1nc(N2CCCCS2(=O)=O)c2cccnc2c1O</td>\n",
       "    </tr>\n",
       "    <tr>\n",
       "      <th>2030</th>\n",
       "      <td>CHEMBL3805182</td>\n",
       "      <td>NC(=O)c1c2c(c(O)c3ncc(Cc4cccc(Cl)c4F)cc13)C(=O...</td>\n",
       "      <td>IC50</td>\n",
       "      <td>'='</td>\n",
       "      <td>0.6</td>\n",
       "      <td>nM</td>\n",
       "      <td>9.22</td>\n",
       "      <td>NaN</td>\n",
       "      <td>B</td>\n",
       "      <td>Inhibition of pseudotype HIV1 integrase strand...</td>\n",
       "      <td>Human immunodeficiency virus 1</td>\n",
       "      <td>NaN</td>\n",
       "      <td>Human immunodeficiency virus type 1 integrase</td>\n",
       "      <td>Human immunodeficiency virus 1</td>\n",
       "      <td>Eur J Med Chem</td>\n",
       "      <td>9.221849</td>\n",
       "      <td>NC(=O)c1c2c(c(O)c3ncc(Cc4cccc(Cl)c4F)cc13)C(=O...</td>\n",
       "    </tr>\n",
       "    <tr>\n",
       "      <th>7124</th>\n",
       "      <td>CHEMBL3806067</td>\n",
       "      <td>NC(=O)c1c2c(c(O)c3ncc(Cc4cccc(Cl)c4F)cc13)C(=O...</td>\n",
       "      <td>IC50</td>\n",
       "      <td>'='</td>\n",
       "      <td>0.7</td>\n",
       "      <td>nM</td>\n",
       "      <td>9.15</td>\n",
       "      <td>NaN</td>\n",
       "      <td>B</td>\n",
       "      <td>Inhibition of pseudotype HIV1 integrase strand...</td>\n",
       "      <td>Human immunodeficiency virus 1</td>\n",
       "      <td>NaN</td>\n",
       "      <td>Human immunodeficiency virus type 1 integrase</td>\n",
       "      <td>Human immunodeficiency virus 1</td>\n",
       "      <td>Eur J Med Chem</td>\n",
       "      <td>9.154902</td>\n",
       "      <td>NC(=O)c1c2c(c(O)c3ncc(Cc4cccc(Cl)c4F)cc13)C(=O...</td>\n",
       "    </tr>\n",
       "    <tr>\n",
       "      <th>2314</th>\n",
       "      <td>CHEMBL1917873</td>\n",
       "      <td>CC(C)n1c(=O)c(C(=O)NCc2ccc(F)cc2)c(O)c2ncccc21</td>\n",
       "      <td>IC50</td>\n",
       "      <td>'='</td>\n",
       "      <td>1.0</td>\n",
       "      <td>nM</td>\n",
       "      <td>9.00</td>\n",
       "      <td>NaN</td>\n",
       "      <td>B</td>\n",
       "      <td>Inhibition of HIV1 integrase strand transfer b...</td>\n",
       "      <td>Human immunodeficiency virus 1</td>\n",
       "      <td>NaN</td>\n",
       "      <td>Human immunodeficiency virus type 1 integrase</td>\n",
       "      <td>Human immunodeficiency virus 1</td>\n",
       "      <td>Bioorg Med Chem Lett</td>\n",
       "      <td>9.000000</td>\n",
       "      <td>CC(C)n1c(=O)c(C(=O)NCc2ccc(F)cc2)c(O)c2ncccc21</td>\n",
       "    </tr>\n",
       "    <tr>\n",
       "      <th>884</th>\n",
       "      <td>CHEMBL204656</td>\n",
       "      <td>COc1cc2c(cc1Cc1cccc(Cl)c1F)c(=O)c(C(=O)O)cn2[C...</td>\n",
       "      <td>IC50</td>\n",
       "      <td>'='</td>\n",
       "      <td>1.8</td>\n",
       "      <td>nM</td>\n",
       "      <td>8.74</td>\n",
       "      <td>NaN</td>\n",
       "      <td>B</td>\n",
       "      <td>Inhibition of HIV1 integrase</td>\n",
       "      <td>Human immunodeficiency virus 1</td>\n",
       "      <td>NaN</td>\n",
       "      <td>Human immunodeficiency virus type 1 integrase</td>\n",
       "      <td>Human immunodeficiency virus 1</td>\n",
       "      <td>Bioorg Med Chem</td>\n",
       "      <td>8.744727</td>\n",
       "      <td>COc1cc2c(cc1Cc1cccc(Cl)c1F)c(=O)c(C(=O)O)cn2[C...</td>\n",
       "    </tr>\n",
       "  </tbody>\n",
       "</table>\n",
       "</div>"
      ],
      "text/plain": [
       "     Molecule ChEMBL ID                                             Smiles  \\\n",
       "686        CHEMBL414850  O=C(NCc1ccc(F)cc1)c1nc(N2CCCCS2(=O)=O)c2cccnc2c1O   \n",
       "2030      CHEMBL3805182  NC(=O)c1c2c(c(O)c3ncc(Cc4cccc(Cl)c4F)cc13)C(=O...   \n",
       "7124      CHEMBL3806067  NC(=O)c1c2c(c(O)c3ncc(Cc4cccc(Cl)c4F)cc13)C(=O...   \n",
       "2314      CHEMBL1917873     CC(C)n1c(=O)c(C(=O)NCc2ccc(F)cc2)c(O)c2ncccc21   \n",
       "884        CHEMBL204656  COc1cc2c(cc1Cc1cccc(Cl)c1F)c(=O)c(C(=O)O)cn2[C...   \n",
       "\n",
       "     Standard Type Standard Relation  Standard Value Standard Units  \\\n",
       "686           IC50               '='             0.5             nM   \n",
       "2030          IC50               '='             0.6             nM   \n",
       "7124          IC50               '='             0.7             nM   \n",
       "2314          IC50               '='             1.0             nM   \n",
       "884           IC50               '='             1.8             nM   \n",
       "\n",
       "      pChEMBL Value Data Validity Comment Assay Type  \\\n",
       "686            9.30                   NaN          B   \n",
       "2030           9.22                   NaN          B   \n",
       "7124           9.15                   NaN          B   \n",
       "2314           9.00                   NaN          B   \n",
       "884            8.74                   NaN          B   \n",
       "\n",
       "                                      Assay Description  \\\n",
       "686   In vitro concentration required to inhibit the...   \n",
       "2030  Inhibition of pseudotype HIV1 integrase strand...   \n",
       "7124  Inhibition of pseudotype HIV1 integrase strand...   \n",
       "2314  Inhibition of HIV1 integrase strand transfer b...   \n",
       "884                        Inhibition of HIV1 integrase   \n",
       "\n",
       "                      Assay Organism Assay Variant Mutation  \\\n",
       "686   Human immunodeficiency virus 1                    NaN   \n",
       "2030  Human immunodeficiency virus 1                    NaN   \n",
       "7124  Human immunodeficiency virus 1                    NaN   \n",
       "2314  Human immunodeficiency virus 1                    NaN   \n",
       "884   Human immunodeficiency virus 1                    NaN   \n",
       "\n",
       "                                        Target Name  \\\n",
       "686   Human immunodeficiency virus type 1 integrase   \n",
       "2030  Human immunodeficiency virus type 1 integrase   \n",
       "7124  Human immunodeficiency virus type 1 integrase   \n",
       "2314  Human immunodeficiency virus type 1 integrase   \n",
       "884   Human immunodeficiency virus type 1 integrase   \n",
       "\n",
       "                     Target Organism      Document Journal   pChEMBL  \\\n",
       "686   Human immunodeficiency virus 1            J Med Chem  9.301030   \n",
       "2030  Human immunodeficiency virus 1        Eur J Med Chem  9.221849   \n",
       "7124  Human immunodeficiency virus 1        Eur J Med Chem  9.154902   \n",
       "2314  Human immunodeficiency virus 1  Bioorg Med Chem Lett  9.000000   \n",
       "884   Human immunodeficiency virus 1       Bioorg Med Chem  8.744727   \n",
       "\n",
       "                                       Canonical_Smiles  \n",
       "686   O=C(NCc1ccc(F)cc1)c1nc(N2CCCCS2(=O)=O)c2cccnc2c1O  \n",
       "2030  NC(=O)c1c2c(c(O)c3ncc(Cc4cccc(Cl)c4F)cc13)C(=O...  \n",
       "7124  NC(=O)c1c2c(c(O)c3ncc(Cc4cccc(Cl)c4F)cc13)C(=O...  \n",
       "2314     CC(C)n1c(=O)c(C(=O)NCc2ccc(F)cc2)c(O)c2ncccc21  \n",
       "884   COc1cc2c(cc1Cc1cccc(Cl)c1F)c(=O)c(C(=O)O)cn2[C...  "
      ]
     },
     "execution_count": 51,
     "metadata": {},
     "output_type": "execute_result"
    }
   ],
   "source": [
    "df3.head()"
   ]
  },
  {
   "cell_type": "markdown",
   "id": "4d1a95dd-0966-4a8a-af39-dfaa4dc42d34",
   "metadata": {},
   "source": [
    "## 2.4. pChEMBL validation"
   ]
  },
  {
   "cell_type": "code",
   "execution_count": 52,
   "id": "3590d3b6-97a8-47d6-a9da-1d9c873ff3ec",
   "metadata": {},
   "outputs": [
    {
     "data": {
      "text/plain": [
       "(2834, 17)"
      ]
     },
     "execution_count": 52,
     "metadata": {},
     "output_type": "execute_result"
    }
   ],
   "source": [
    "df4 = df3.dropna(subset = 'pChEMBL Value')\n",
    "df4.shape"
   ]
  },
  {
   "cell_type": "code",
   "execution_count": 53,
   "id": "af654ca0-b531-4175-befd-6a0d5a2d9e12",
   "metadata": {},
   "outputs": [
    {
     "name": "stdout",
     "output_type": "stream",
     "text": [
      "R2= 0.9999957805427725\n"
     ]
    },
    {
     "data": {
      "text/plain": [
       "<seaborn.axisgrid.JointGrid at 0x7f643afa6730>"
      ]
     },
     "execution_count": 53,
     "metadata": {},
     "output_type": "execute_result"
    },
    {
     "data": {
      "image/png": "[encoded data removed]",
      "text/plain": [
       "<Figure size 600x600 with 3 Axes>"
      ]
     },
     "metadata": {},
     "output_type": "display_data"
    }
   ],
   "source": [
    "import seaborn as sns\n",
    "import numpy as np\n",
    "from scipy import stats\n",
    "x, y = df4[\"pChEMBL Value\"].values, df4[\"pChEMBL\"].values\n",
    "def r2(x, y):\n",
    "    return stats.pearsonr(x, y)[0] ** 2\n",
    "r2=stats.pearsonr(x, y)[0] ** 2\n",
    "print('R2=', r2)\n",
    "\n",
    "sns.jointplot(data = df4, \n",
    "    x = \"pChEMBL Value\",\n",
    "    y = \"pChEMBL\", kind=\"reg\")\n"
   ]
  },
  {
   "cell_type": "markdown",
   "id": "442877ba-7fd6-4db4-82af-ac8610da34f5",
   "metadata": {},
   "source": [
    "## 2.5. Save"
   ]
  },
  {
   "cell_type": "code",
   "execution_count": 54,
   "id": "513f5064-af31-4000-8636-74830810afc4",
   "metadata": {},
   "outputs": [],
   "source": [
    "df3.to_csv('Data/CHEMBL3471_pre.csv')\n",
    "df4.to_csv('Data/CHEMBL3471_pchem.csv')"
   ]
  },
  {
   "cell_type": "code",
   "execution_count": null,
   "id": "7a7747c0-86ba-47c4-8f78-5cad3126b93c",
   "metadata": {},
   "outputs": [],
   "source": []
  }
 ],
 "metadata": {
  "colab": {
   "provenance": []
  },
  "kernelspec": {
   "display_name": "Python 3 (ipykernel)",
   "language": "python",
   "name": "python3"
  },
  "language_info": {
   "codemirror_mode": {
    "name": "ipython",
    "version": 3
   },
   "file_extension": ".py",
   "mimetype": "text/x-python",
   "name": "python",
   "nbconvert_exporter": "python",
   "pygments_lexer": "ipython3",
   "version": "3.9.16"
  }
 },
 "nbformat": 4,
 "nbformat_minor": 5
}
